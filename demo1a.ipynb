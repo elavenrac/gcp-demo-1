{
 "cells": [
  {
   "cell_type": "code",
   "execution_count": 1,
   "metadata": {},
   "outputs": [],
   "source": [
    "!gcloud services enable ml.googleapis.com\n",
    "!gcloud services enable compute.googleapis.com\n",
    "# !pip install -e git+https://github.com/SohierDane/BigQuery_Helper#egg=bq_helper"
   ]
  },
  {
   "cell_type": "markdown",
   "metadata": {},
   "source": [
    "We initially query the dataset to view all the fields and decide which fields are useful and what kind of prediction we can make.\n",
    "\n",
    "Of the 23 fields, we decided to cut the dataset down significantly since many fields did not have complete data, and others share the same information (i.e. community area and the latitude/longitude fields)."
   ]
  },
  {
   "cell_type": "code",
   "execution_count": 2,
   "metadata": {},
   "outputs": [
    {
     "data": {
      "text/html": [
       "<div>\n",
       "<style scoped>\n",
       "    .dataframe tbody tr th:only-of-type {\n",
       "        vertical-align: middle;\n",
       "    }\n",
       "\n",
       "    .dataframe tbody tr th {\n",
       "        vertical-align: top;\n",
       "    }\n",
       "\n",
       "    .dataframe thead th {\n",
       "        text-align: right;\n",
       "    }\n",
       "</style>\n",
       "<table border=\"1\" class=\"dataframe\">\n",
       "  <thead>\n",
       "    <tr style=\"text-align: right;\">\n",
       "      <th></th>\n",
       "      <th>name</th>\n",
       "      <th>type</th>\n",
       "      <th>mode</th>\n",
       "      <th>description</th>\n",
       "    </tr>\n",
       "  </thead>\n",
       "  <tbody>\n",
       "    <tr>\n",
       "      <th>0</th>\n",
       "      <td>unique_key</td>\n",
       "      <td>STRING</td>\n",
       "      <td>REQUIRED</td>\n",
       "      <td>Unique identifier for the trip.</td>\n",
       "    </tr>\n",
       "    <tr>\n",
       "      <th>1</th>\n",
       "      <td>taxi_id</td>\n",
       "      <td>STRING</td>\n",
       "      <td>REQUIRED</td>\n",
       "      <td>A unique identifier for the taxi.</td>\n",
       "    </tr>\n",
       "    <tr>\n",
       "      <th>2</th>\n",
       "      <td>trip_start_timestamp</td>\n",
       "      <td>TIMESTAMP</td>\n",
       "      <td>NULLABLE</td>\n",
       "      <td>When the trip started, rounded to the nearest ...</td>\n",
       "    </tr>\n",
       "    <tr>\n",
       "      <th>3</th>\n",
       "      <td>trip_end_timestamp</td>\n",
       "      <td>TIMESTAMP</td>\n",
       "      <td>NULLABLE</td>\n",
       "      <td>When the trip ended, rounded to the nearest 15...</td>\n",
       "    </tr>\n",
       "    <tr>\n",
       "      <th>4</th>\n",
       "      <td>trip_seconds</td>\n",
       "      <td>INTEGER</td>\n",
       "      <td>NULLABLE</td>\n",
       "      <td>Time of the trip in seconds.</td>\n",
       "    </tr>\n",
       "    <tr>\n",
       "      <th>5</th>\n",
       "      <td>trip_miles</td>\n",
       "      <td>FLOAT</td>\n",
       "      <td>NULLABLE</td>\n",
       "      <td>Distance of the trip in miles.</td>\n",
       "    </tr>\n",
       "    <tr>\n",
       "      <th>6</th>\n",
       "      <td>pickup_census_tract</td>\n",
       "      <td>INTEGER</td>\n",
       "      <td>NULLABLE</td>\n",
       "      <td>The Census Tract where the trip began. For pri...</td>\n",
       "    </tr>\n",
       "    <tr>\n",
       "      <th>7</th>\n",
       "      <td>dropoff_census_tract</td>\n",
       "      <td>INTEGER</td>\n",
       "      <td>NULLABLE</td>\n",
       "      <td>The Census Tract where the trip ended. For pri...</td>\n",
       "    </tr>\n",
       "    <tr>\n",
       "      <th>8</th>\n",
       "      <td>pickup_community_area</td>\n",
       "      <td>INTEGER</td>\n",
       "      <td>NULLABLE</td>\n",
       "      <td>The Community Area where the trip began.</td>\n",
       "    </tr>\n",
       "    <tr>\n",
       "      <th>9</th>\n",
       "      <td>dropoff_community_area</td>\n",
       "      <td>INTEGER</td>\n",
       "      <td>NULLABLE</td>\n",
       "      <td>The Community Area where the trip ended.</td>\n",
       "    </tr>\n",
       "    <tr>\n",
       "      <th>10</th>\n",
       "      <td>fare</td>\n",
       "      <td>FLOAT</td>\n",
       "      <td>NULLABLE</td>\n",
       "      <td>The fare for the trip.</td>\n",
       "    </tr>\n",
       "    <tr>\n",
       "      <th>11</th>\n",
       "      <td>tips</td>\n",
       "      <td>FLOAT</td>\n",
       "      <td>NULLABLE</td>\n",
       "      <td>The tip for the trip. Cash tips generally will...</td>\n",
       "    </tr>\n",
       "    <tr>\n",
       "      <th>12</th>\n",
       "      <td>tolls</td>\n",
       "      <td>FLOAT</td>\n",
       "      <td>NULLABLE</td>\n",
       "      <td>The tolls for the trip.</td>\n",
       "    </tr>\n",
       "    <tr>\n",
       "      <th>13</th>\n",
       "      <td>extras</td>\n",
       "      <td>FLOAT</td>\n",
       "      <td>NULLABLE</td>\n",
       "      <td>Extra charges for the trip.</td>\n",
       "    </tr>\n",
       "    <tr>\n",
       "      <th>14</th>\n",
       "      <td>trip_total</td>\n",
       "      <td>FLOAT</td>\n",
       "      <td>NULLABLE</td>\n",
       "      <td>Total cost of the trip, the total of the fare,...</td>\n",
       "    </tr>\n",
       "    <tr>\n",
       "      <th>15</th>\n",
       "      <td>payment_type</td>\n",
       "      <td>STRING</td>\n",
       "      <td>NULLABLE</td>\n",
       "      <td>Type of payment for the trip.</td>\n",
       "    </tr>\n",
       "    <tr>\n",
       "      <th>16</th>\n",
       "      <td>company</td>\n",
       "      <td>STRING</td>\n",
       "      <td>NULLABLE</td>\n",
       "      <td>The taxi company.</td>\n",
       "    </tr>\n",
       "    <tr>\n",
       "      <th>17</th>\n",
       "      <td>pickup_latitude</td>\n",
       "      <td>FLOAT</td>\n",
       "      <td>NULLABLE</td>\n",
       "      <td>The latitude of the center of the pickup censu...</td>\n",
       "    </tr>\n",
       "    <tr>\n",
       "      <th>18</th>\n",
       "      <td>pickup_longitude</td>\n",
       "      <td>FLOAT</td>\n",
       "      <td>NULLABLE</td>\n",
       "      <td>The longitude of the center of the pickup cens...</td>\n",
       "    </tr>\n",
       "    <tr>\n",
       "      <th>19</th>\n",
       "      <td>pickup_location</td>\n",
       "      <td>STRING</td>\n",
       "      <td>NULLABLE</td>\n",
       "      <td>The location of the center of the pickup censu...</td>\n",
       "    </tr>\n",
       "    <tr>\n",
       "      <th>20</th>\n",
       "      <td>dropoff_latitude</td>\n",
       "      <td>FLOAT</td>\n",
       "      <td>NULLABLE</td>\n",
       "      <td>The latitude of the center of the dropoff cens...</td>\n",
       "    </tr>\n",
       "    <tr>\n",
       "      <th>21</th>\n",
       "      <td>dropoff_longitude</td>\n",
       "      <td>FLOAT</td>\n",
       "      <td>NULLABLE</td>\n",
       "      <td>The longitude of the center of the dropoff cen...</td>\n",
       "    </tr>\n",
       "    <tr>\n",
       "      <th>22</th>\n",
       "      <td>dropoff_location</td>\n",
       "      <td>STRING</td>\n",
       "      <td>NULLABLE</td>\n",
       "      <td>The location of the center of the dropoff cens...</td>\n",
       "    </tr>\n",
       "  </tbody>\n",
       "</table>\n",
       "</div>"
      ],
      "text/plain": [
       "                      name       type      mode  \\\n",
       "0               unique_key     STRING  REQUIRED   \n",
       "1                  taxi_id     STRING  REQUIRED   \n",
       "2     trip_start_timestamp  TIMESTAMP  NULLABLE   \n",
       "3       trip_end_timestamp  TIMESTAMP  NULLABLE   \n",
       "4             trip_seconds    INTEGER  NULLABLE   \n",
       "5               trip_miles      FLOAT  NULLABLE   \n",
       "6      pickup_census_tract    INTEGER  NULLABLE   \n",
       "7     dropoff_census_tract    INTEGER  NULLABLE   \n",
       "8    pickup_community_area    INTEGER  NULLABLE   \n",
       "9   dropoff_community_area    INTEGER  NULLABLE   \n",
       "10                    fare      FLOAT  NULLABLE   \n",
       "11                    tips      FLOAT  NULLABLE   \n",
       "12                   tolls      FLOAT  NULLABLE   \n",
       "13                  extras      FLOAT  NULLABLE   \n",
       "14              trip_total      FLOAT  NULLABLE   \n",
       "15            payment_type     STRING  NULLABLE   \n",
       "16                 company     STRING  NULLABLE   \n",
       "17         pickup_latitude      FLOAT  NULLABLE   \n",
       "18        pickup_longitude      FLOAT  NULLABLE   \n",
       "19         pickup_location     STRING  NULLABLE   \n",
       "20        dropoff_latitude      FLOAT  NULLABLE   \n",
       "21       dropoff_longitude      FLOAT  NULLABLE   \n",
       "22        dropoff_location     STRING  NULLABLE   \n",
       "\n",
       "                                          description  \n",
       "0                     Unique identifier for the trip.  \n",
       "1                   A unique identifier for the taxi.  \n",
       "2   When the trip started, rounded to the nearest ...  \n",
       "3   When the trip ended, rounded to the nearest 15...  \n",
       "4                        Time of the trip in seconds.  \n",
       "5                      Distance of the trip in miles.  \n",
       "6   The Census Tract where the trip began. For pri...  \n",
       "7   The Census Tract where the trip ended. For pri...  \n",
       "8            The Community Area where the trip began.  \n",
       "9            The Community Area where the trip ended.  \n",
       "10                             The fare for the trip.  \n",
       "11  The tip for the trip. Cash tips generally will...  \n",
       "12                            The tolls for the trip.  \n",
       "13                        Extra charges for the trip.  \n",
       "14  Total cost of the trip, the total of the fare,...  \n",
       "15                      Type of payment for the trip.  \n",
       "16                                  The taxi company.  \n",
       "17  The latitude of the center of the pickup censu...  \n",
       "18  The longitude of the center of the pickup cens...  \n",
       "19  The location of the center of the pickup censu...  \n",
       "20  The latitude of the center of the dropoff cens...  \n",
       "21  The longitude of the center of the dropoff cen...  \n",
       "22  The location of the center of the dropoff cens...  "
      ]
     },
     "execution_count": 2,
     "metadata": {},
     "output_type": "execute_result"
    }
   ],
   "source": [
    "import bq_helper\n",
    "from bq_helper import BigQueryHelper\n",
    "\n",
    "\n",
    "#Displays a table with all the labels\n",
    "chicago_taxi = bq_helper.BigQueryHelper(active_project=\"bigquery-public-data\", dataset_name=\"chicago_taxi_trips\")\n",
    "bq_assistant = BigQueryHelper(\"bigquery-public-data\", \"chicago_taxi_trips\")\n",
    "bq_assistant.list_tables()\n",
    "bq_assistant.head(\"taxi_trips\", num_rows=3)\n",
    "bq_assistant.table_schema(\"taxi_trips\")"
   ]
  },
  {
   "cell_type": "markdown",
   "metadata": {},
   "source": [
    "After deciding which fields were useful and the use-case of our model, we ran the query to collect and pre-processed the data:"
   ]
  },
  {
   "cell_type": "code",
   "execution_count": 3,
   "metadata": {},
   "outputs": [
    {
     "name": "stdout",
     "output_type": "stream",
     "text": [
      "Query results loaded to table /projects/ml-sandbox-1-191918/datasets/chicagotaxi/tables/chicago_taxi_processed\n"
     ]
    }
   ],
   "source": [
    "from google.cloud import bigquery\n",
    "client = bigquery.Client(project='ml-sandbox-1-191918')\n",
    "\n",
    "\n",
    "dataset_id = 'chicagotaxi'\n",
    "job_config = bigquery.QueryJobConfig()\n",
    "\n",
    "client.delete_table('ml-sandbox-1-191918.chicagotaxi.chicago_taxi_processed', not_found_ok=True)\n",
    "table_ref = client.dataset(dataset_id).table('chicago_taxi_processed')\n",
    "job_config.destination = table_ref\n",
    "\n",
    "\n",
    "query = '''SELECT\n",
    "  IF(payment_type='Cash',1,0) cash,\n",
    "  EXTRACT(DAYOFWEEK FROM trip_start_timestamp) AS day_of_week,\n",
    "  (((EXTRACT(HOUR from trip_start_timestamp)*3600)+(EXTRACT(MINUTE from trip_start_timestamp)*60)+(EXTRACT(SECOND from trip_start_timestamp)))/86400) as start_time,\n",
    "  (((EXTRACT(HOUR from trip_end_timestamp)*3600)+(EXTRACT(MINUTE from trip_end_timestamp)*60)+(EXTRACT(SECOND from trip_end_timestamp)))/86400) as end_time,\n",
    "  EXTRACT(DAYOFYEAR FROM trip_start_timestamp) as day_of_year,\n",
    "  EXTRACT(MONTH FROM trip_start_timestamp) as month,\n",
    "  EXTRACT(YEAR FROM trip_start_timestamp) as year,\n",
    "  trip_miles,\n",
    "  (pickup_latitude - 41.660136051)/(42.021223593 - 41.660136051) AS standard_pickup_lat,\n",
    "  (pickup_longitude + 87.913624596)/(-87.531386257 + 87.913624596) AS standard_pickup_long,\n",
    "  (dropoff_latitude - 41.650221676)/(42.021223593 - 41.650221676 ) AS standard_dropoff_lat,\n",
    "  (dropoff_longitude + 87.913624596)/(-87.531386257 + 87.913624596) AS standard_dropoff_long\n",
    "FROM\n",
    "  `bigquery-public-data.chicago_taxi_trips.taxi_trips`\n",
    "WHERE\n",
    "  trip_miles > 0\n",
    "  AND trip_seconds > 0\n",
    "  AND fare > 0\n",
    "  AND payment_type in ('Cash', 'Credit Card')\n",
    "  AND trip_start_timestamp IS NOT NULL\n",
    "  AND trip_end_timestamp IS NOT NULL\n",
    "  AND trip_miles IS NOT NULL\n",
    "  AND pickup_latitude IS NOT NULL\n",
    "  AND pickup_longitude IS NOT NULL\n",
    "  AND dropoff_latitude IS NOT NULL\n",
    "  AND dropoff_longitude IS NOT NULL;\n",
    "'''\n",
    "\n",
    "query_job = client.query(query, location='US', job_config=job_config)\n",
    "\n",
    "query_job.result()  # Waits for the query to finish\n",
    "print('Query results loaded to table {}'.format(table_ref.path))\n"
   ]
  },
  {
   "cell_type": "markdown",
   "metadata": {},
   "source": [
    "The pickup and dropoff latitudes and longitudes were normalized using $\\frac{x-x_{min}}{x_{max}-x_{min}}$. These minimum and maximum values were found using the following query:"
   ]
  },
  {
   "cell_type": "code",
   "execution_count": 4,
   "metadata": {},
   "outputs": [
    {
     "data": {
      "text/html": [
       "<div>\n",
       "<style scoped>\n",
       "    .dataframe tbody tr th:only-of-type {\n",
       "        vertical-align: middle;\n",
       "    }\n",
       "\n",
       "    .dataframe tbody tr th {\n",
       "        vertical-align: top;\n",
       "    }\n",
       "\n",
       "    .dataframe thead th {\n",
       "        text-align: right;\n",
       "    }\n",
       "</style>\n",
       "<table border=\"1\" class=\"dataframe\">\n",
       "  <thead>\n",
       "    <tr style=\"text-align: right;\">\n",
       "      <th></th>\n",
       "      <th>min_pick_lat</th>\n",
       "      <th>max_pick_lat</th>\n",
       "      <th>min_pick_lon</th>\n",
       "      <th>max_pick_lon</th>\n",
       "      <th>min_drop_lat</th>\n",
       "      <th>max_drop_lat</th>\n",
       "      <th>min_drop_lon</th>\n",
       "      <th>max_drop_lon</th>\n",
       "    </tr>\n",
       "  </thead>\n",
       "  <tbody>\n",
       "    <tr>\n",
       "      <th>0</th>\n",
       "      <td>41.660136</td>\n",
       "      <td>42.021224</td>\n",
       "      <td>-87.913625</td>\n",
       "      <td>-87.531386</td>\n",
       "      <td>41.650222</td>\n",
       "      <td>42.021224</td>\n",
       "      <td>-87.913625</td>\n",
       "      <td>-87.531386</td>\n",
       "    </tr>\n",
       "  </tbody>\n",
       "</table>\n",
       "</div>"
      ],
      "text/plain": [
       "   min_pick_lat  max_pick_lat  min_pick_lon  max_pick_lon  min_drop_lat  \\\n",
       "0     41.660136     42.021224    -87.913625    -87.531386     41.650222   \n",
       "\n",
       "   max_drop_lat  min_drop_lon  max_drop_lon  \n",
       "0     42.021224    -87.913625    -87.531386  "
      ]
     },
     "execution_count": 4,
     "metadata": {},
     "output_type": "execute_result"
    }
   ],
   "source": [
    "%%bigquery\n",
    "SELECT\n",
    "  MIN(pickup_latitude) as min_pick_lat,\n",
    "  MAX(pickup_latitude) as max_pick_lat,\n",
    "  MIN(pickup_longitude) as min_pick_lon,\n",
    "  MAX(pickup_longitude) as max_pick_lon,\n",
    "  MIN(dropoff_latitude) as min_drop_lat,\n",
    "  MAX(dropoff_latitude) as max_drop_lat,\n",
    "  MIN(dropoff_longitude) as min_drop_lon,\n",
    "  MAX(dropoff_longitude) as max_drop_lon\n",
    "FROM\n",
    "  `bigquery-public-data.chicago_taxi_trips.taxi_trips`\n",
    "WHERE\n",
    "  trip_miles > 0\n",
    "  AND trip_seconds > 0\n",
    "  AND fare > 0\n",
    "  AND payment_type in ('Cash', 'Credit Card')\n",
    "  AND trip_start_timestamp IS NOT NULL\n",
    "  AND trip_end_timestamp IS NOT NULL\n",
    "  AND trip_miles IS NOT NULL\n",
    "  AND pickup_latitude IS NOT NULL\n",
    "  AND pickup_longitude IS NOT NULL\n",
    "  AND dropoff_latitude IS NOT NULL\n",
    "  AND dropoff_longitude IS NOT NULL;"
   ]
  },
  {
   "cell_type": "markdown",
   "metadata": {},
   "source": [
    "After pre-processing the data, we ran matrix correlation to check if our problem could be solved simply. We found that there was no direct correlation between payment type and any of the other fields, so we moved on to using a Linear ML Classifier. "
   ]
  },
  {
   "cell_type": "code",
   "execution_count": 5,
   "metadata": {},
   "outputs": [
    {
     "data": {
      "text/html": [
       "<div>\n",
       "<style scoped>\n",
       "    .dataframe tbody tr th:only-of-type {\n",
       "        vertical-align: middle;\n",
       "    }\n",
       "\n",
       "    .dataframe tbody tr th {\n",
       "        vertical-align: top;\n",
       "    }\n",
       "\n",
       "    .dataframe thead th {\n",
       "        text-align: right;\n",
       "    }\n",
       "</style>\n",
       "<table border=\"1\" class=\"dataframe\">\n",
       "  <thead>\n",
       "    <tr style=\"text-align: right;\">\n",
       "      <th></th>\n",
       "      <th>trip_miles_corr</th>\n",
       "      <th>pickup_latitude_corr</th>\n",
       "      <th>pickup_longitude_corr</th>\n",
       "      <th>dropoff_latitude_corr</th>\n",
       "      <th>dropoff_longitude_corr</th>\n",
       "      <th>dropoff_time_corr</th>\n",
       "      <th>dropoff_year_corr</th>\n",
       "      <th>month_corr</th>\n",
       "      <th>day_corr</th>\n",
       "      <th>weekday_corr</th>\n",
       "    </tr>\n",
       "  </thead>\n",
       "  <tbody>\n",
       "    <tr>\n",
       "      <th>0</th>\n",
       "      <td>-0.068182</td>\n",
       "      <td>0.011734</td>\n",
       "      <td>0.116265</td>\n",
       "      <td>0.001082</td>\n",
       "      <td>0.057388</td>\n",
       "      <td>-0.010678</td>\n",
       "      <td>-0.141403</td>\n",
       "      <td>0.002425</td>\n",
       "      <td>0.002589</td>\n",
       "      <td>0.022717</td>\n",
       "    </tr>\n",
       "  </tbody>\n",
       "</table>\n",
       "</div>"
      ],
      "text/plain": [
       "   trip_miles_corr  pickup_latitude_corr  pickup_longitude_corr  \\\n",
       "0        -0.068182              0.011734               0.116265   \n",
       "\n",
       "   dropoff_latitude_corr  dropoff_longitude_corr  dropoff_time_corr  \\\n",
       "0               0.001082                0.057388          -0.010678   \n",
       "\n",
       "   dropoff_year_corr  month_corr  day_corr  weekday_corr  \n",
       "0          -0.141403    0.002425  0.002589      0.022717  "
      ]
     },
     "execution_count": 5,
     "metadata": {},
     "output_type": "execute_result"
    }
   ],
   "source": [
    "%%bigquery\n",
    "SELECT\n",
    "  CORR(cash,\n",
    "    trip_miles) AS trip_miles_corr,\n",
    "  CORR(cash,\n",
    "    standard_pickup_lat) AS pickup_latitude_corr,\n",
    "  CORR(cash,\n",
    "    standard_pickup_long) AS pickup_longitude_corr,\n",
    "  CORR(cash,\n",
    "    standard_dropoff_lat) AS dropoff_latitude_corr,\n",
    "  CORR(cash,\n",
    "    standard_dropoff_long) AS dropoff_longitude_corr,\n",
    "  CORR(cash,\n",
    "    start_time) AS dropoff_time_corr,\n",
    "  CORR(cash,\n",
    "    year) AS dropoff_year_corr,\n",
    "  CORR(cash,\n",
    "    month) AS month_corr,\n",
    "  CORR(cash,\n",
    "    day_of_year) AS day_corr,\n",
    "  CORR(cash,\n",
    "    day_of_week) AS weekday_corr\n",
    "FROM\n",
    "  `ml-sandbox-1-191918.chicagotaxi.chicago_taxi_processed`"
   ]
  },
  {
   "cell_type": "markdown",
   "metadata": {},
   "source": [
    "We then send the processed BigQuery table to a Google Cloud Storage bucket, where it can be accessed by our model for training:"
   ]
  },
  {
   "cell_type": "code",
   "execution_count": 6,
   "metadata": {},
   "outputs": [
    {
     "name": "stdout",
     "output_type": "stream",
     "text": [
      "Exported ml-sandbox-1-191918:chicagotaxi.final_taxi_standardized to gs://chicago-taxi-data-processed/chicago-taxi-*.csv\n"
     ]
    }
   ],
   "source": [
    "from google.cloud import bigquery\n",
    "client = bigquery.Client()\n",
    "bucket_name = 'chicago-taxi-data-processed'\n",
    "project = 'ml-sandbox-1-191918'\n",
    "dataset_id = 'chicagotaxi'\n",
    "table_id = 'final_taxi_standardized'\n",
    "destination_uri = 'gs://{}/{}'.format(bucket_name, 'chicago-taxi-*.csv')\n",
    "dataset_ref = client.dataset(dataset_id, project=project)\n",
    "table_ref = dataset_ref.table(table_id)\n",
    "\n",
    "job_config = bigquery.job.ExtractJobConfig(print_header=False)\n",
    "\n",
    "extract_job = client.extract_table(\n",
    "    table_ref,\n",
    "    destination_uri,\n",
    "    # Location must match that of the source table.\n",
    "    location='US',\n",
    "    job_config=job_config)  # API request\n",
    "\n",
    "extract_job.result()  # Waits for job to complete.\n",
    "\n",
    "print('Exported {}:{}.{} to {}'.format(\n",
    "    project, dataset_id, table_id, destination_uri))"
   ]
  },
  {
   "cell_type": "markdown",
   "metadata": {},
   "source": [
    "Combine files into one for training:"
   ]
  },
  {
   "cell_type": "code",
   "execution_count": 7,
   "metadata": {},
   "outputs": [
    {
     "name": "stdout",
     "output_type": "stream",
     "text": [
      "Composing gs://chicago-taxi-data-processed/processed-chicago-taxi.csv from 24 component object(s).\n"
     ]
    }
   ],
   "source": [
    "!gsutil compose gs://chicago-taxi-data-processed/chicago-taxi-* gs://chicago-taxi-data-processed/processed-chicago-taxi.csv"
   ]
  },
  {
   "cell_type": "code",
   "execution_count": 8,
   "metadata": {},
   "outputs": [
    {
     "name": "stdout",
     "output_type": "stream",
     "text": [
      "Overwriting config.yaml\n"
     ]
    }
   ],
   "source": [
    "%%writefile config.yaml\n",
    "trainingInput:\n",
    "  scaleTier: CUSTOM\n",
    "  masterType: large_model_v100\n",
    "  args:\n",
    "    - \"--preprocess\"\n",
    "    - \"--training_data_path=gs://chicago-taxi-data-processed/half_finaltaxi_encoded.csv\"\n",
    "    - \"--validation_split=0.2\"\n",
    "    - \"--test_split=0.1\"\n",
    "    - \"--model_type=classification\"\n",
    "    - \"--max_steps=10000000\"\n",
    "    - \"--learning_rate=0.0002\"\n",
    "    - \"--eval_steps=1000\"\n",
    "    - \"--batch_size=1\"\n",
    "    - \"--eval_frequency_secs=100\"\n",
    "    - \"--optimizer_type=ftrl\"\n",
    "  region: us-central1\n",
    "  jobDir: gs://chicago-taxi-data-processed\n",
    "  masterConfig:\n",
    "    imageUri: gcr.io/cloud-ml-algos/linear_learner_gpu:latest"
   ]
  },
  {
   "cell_type": "code",
   "execution_count": 9,
   "metadata": {},
   "outputs": [],
   "source": [
    "CONFIG = 'config.yaml'"
   ]
  },
  {
   "cell_type": "markdown",
   "metadata": {},
   "source": [
    "Execute trainining job:"
   ]
  },
  {
   "cell_type": "code",
   "execution_count": 10,
   "metadata": {},
   "outputs": [],
   "source": [
    "from random import randrange\n",
    "JOB_NAME = \"tuesday_taxi_\" + str(randrange(100000,999999))\n",
    "BUCKET_NAME = \"chicago-taxi-data-processed/\" "
   ]
  },
  {
   "cell_type": "code",
   "execution_count": 11,
   "metadata": {},
   "outputs": [
    {
     "name": "stdout",
     "output_type": "stream",
     "text": [
      "Job [tuesday_taxi_435866] submitted successfully.\n",
      "Your job is still active. You may view the status of your job with the command\n",
      "\n",
      "  $ gcloud ai-platform jobs describe tuesday_taxi_435866\n",
      "\n",
      "or continue streaming the logs with the command\n",
      "\n",
      "  $ gcloud ai-platform jobs stream-logs tuesday_taxi_435866\n",
      "jobId: tuesday_taxi_435866\n",
      "state: QUEUED\n"
     ]
    }
   ],
   "source": [
    "# Submit the training job:\n",
    "!gcloud ai-platform jobs submit training $JOB_NAME \\\n",
    "  --job-dir gs://$BUCKET_NAME/tuesday_taxi_2 \\\n",
    "  --package-path ./tuesday_taxi_2 \\\n",
    "  --module-name tuesday_taxi_2/processed_data/training.csv \\\n",
    "  --region us-central1 \\\n",
    "  --config $CONFIG \\\n",
    "  --python-version=3.5 \\\n",
    "  -- \\\n",
    "  --bucket-name $BUCKET_NAME"
   ]
  },
  {
   "cell_type": "markdown",
   "metadata": {},
   "source": [
    "Generate a prediction:"
   ]
  },
  {
   "cell_type": "code",
   "execution_count": 12,
   "metadata": {},
   "outputs": [],
   "source": [
    "DATA_FORMAT=\"text\" # JSON data format\n",
    "INPUT_PATHS='data.json'\n",
    "OUTPUT_PATH='gs://$BUCKET_NAME/'\n",
    "MODEL_NAME = \"taxi_checkpoint_1\"\n",
    "VERSION_NAME = \"taxi_checkpoint_1\"\n",
    "REGION='us-east1'\n",
    "#now=$(date +\"%Y%m%d_%H%M%S\")\n",
    "#JOB_NAME = \"friday_training_{}\".format(int(time.time()))\n",
    "MAX_WORKER_COUNT=\"20\""
   ]
  },
  {
   "cell_type": "code",
   "execution_count": 13,
   "metadata": {},
   "outputs": [
    {
     "name": "stdout",
     "output_type": "stream",
     "text": [
      "Overwriting $INPUT_FILE\n"
     ]
    }
   ],
   "source": [
    "%%writefile $INPUT_FILE\n",
    "{\"csv_row\":\"1,0.135416667,0.135416667,343,12,2018,0.17,41.90602597,-87.67531162,41.90602597,-87.67531162\",\"key\" : \"dummy-key\"} #class 1\n",
    "{\"csv_row\":\"4,0.90625,0.916666667,58,2,2013,1.7,41.94982935,-87.64396537,41.92907766,-87.64629348\",\"key\" : \"dummy-key\"} #class 0"
   ]
  },
  {
   "cell_type": "code",
   "execution_count": 14,
   "metadata": {},
   "outputs": [
    {
     "name": "stdout",
     "output_type": "stream",
     "text": [
      "CLASS_IDS  CLASSES  KEY             LOGISTIC              LOGITS                 PROBABILITIES\n",
      "[1]        [u'1']   [u'dummy-key']  [0.5945031642913818]  [0.38261300325393677]  [0.40549683570861816, 0.5945031642913818]\n",
      "[1]        [u'1']   [u'dummy-key']  [0.6245089769363403]  [0.5087311267852783]   [0.37549105286598206, 0.6245089769363403]\n"
     ]
    }
   ],
   "source": [
    "INPUT_FILE=\"data.json\"\n",
    "\n",
    "!gcloud ai-platform predict --model $MODEL_NAME --version \\\n",
    "  $VERSION_NAME --json-instances $INPUT_FILE"
   ]
  },
  {
   "cell_type": "code",
   "execution_count": null,
   "metadata": {},
   "outputs": [],
   "source": []
  }
 ],
 "metadata": {
  "kernelspec": {
   "display_name": "Python 3",
   "language": "python",
   "name": "python3"
  },
  "language_info": {
   "codemirror_mode": {
    "name": "ipython",
    "version": 3
   },
   "file_extension": ".py",
   "mimetype": "text/x-python",
   "name": "python",
   "nbconvert_exporter": "python",
   "pygments_lexer": "ipython3",
   "version": "3.5.3"
  }
 },
 "nbformat": 4,
 "nbformat_minor": 2
}
