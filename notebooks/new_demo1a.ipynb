{
 "cells": [
  {
   "cell_type": "code",
   "execution_count": 1,
   "metadata": {
    "scrolled": true
   },
   "outputs": [],
   "source": [
    "# import GCP Demo 1 package\n",
    "from gcpdemo1 import gcp, etl, data, tune, train, predict"
   ]
  },
  {
   "cell_type": "code",
   "execution_count": 2,
   "metadata": {},
   "outputs": [],
   "source": [
    "# GCP variables\n",
    "gcp_vars = {\n",
    "    'credentials_path': '../credentials/ml-sandbox-1-191918-4714b5fd6e92.json', # local path to gcp credentials\n",
    "    'project_name': 'ml-sandbox-1-191918', # gcp project name\n",
    "    'bucket': 'gcp-cert-demo-1', # gcp bucket name\n",
    "    'gcs_trainer_path': 'mlp_trainer_notebook_test/trainer-0.1.tar.gz', # path to write trainer package to within bucket\n",
    "    'local_trainer_path': '../mlp_trainer', # local path to trainer package\n",
    "}"
   ]
  },
  {
   "cell_type": "code",
   "execution_count": 3,
   "metadata": {},
   "outputs": [],
   "source": [
    "# get GCP credentials\n",
    "gcp_credentials = gcp.get_credentials(gcp_vars['credentials_path'])"
   ]
  },
  {
   "cell_type": "code",
   "execution_count": null,
   "metadata": {},
   "outputs": [],
   "source": [
    "# build and upload trainer package\n",
    "# TODO: does not work on windows because of no bash command\n",
    "gcpdemo1.gcp.build_and_upload_trainer_package(\n",
    "    bucket_name=gcp_vars['bucket'],\n",
    "    destination_blob_name=gcp_vars['gcs_trainer_path'],\n",
    "    local_trainer_package_path=gcp_vars['local_trainer_path'],\n",
    "    credentials=gcp_vars['gcp_credentials']\n",
    ")"
   ]
  },
  {
   "cell_type": "code",
   "execution_count": null,
   "metadata": {},
   "outputs": [],
   "source": [
    "# TODO: tune here"
   ]
  },
  {
   "cell_type": "code",
   "execution_count": 4,
   "metadata": {},
   "outputs": [],
   "source": [
    "# input training parameters\n",
    "training_params = {\n",
    "    'dense_neurons_1': 64,\n",
    "    'dense_neurons_2': 32,\n",
    "    'dense_neurons_3': 8,\n",
    "    'activation': 'relu',\n",
    "    'dropout_rate_1': 0.1,\n",
    "    'dropout_rate_2': 0.1,\n",
    "    'dropout_rate_3': 0.1,\n",
    "    'optimizer': 'adam',\n",
    "    'learning_rate': 0.1,\n",
    "    'chunk_size': 500000,\n",
    "    'batch_size': 1024,\n",
    "    'epochs': 3,\n",
    "    'validation_freq': 5,\n",
    "    'kernel_initial_1': 'normal',\n",
    "    'kernel_initial_2': 'normal',\n",
    "    'kernel_initial_3': 'normal',\n",
    "}\n",
    "\n",
    "# input job parameters\n",
    "job_params = {\n",
    "    'job_id': 'mlp_trainer_notebook_test', # training job ID\n",
    "    'job_dir': 'mlp_model_notebook_test' # model output directory\n",
    "}"
   ]
  },
  {
   "cell_type": "code",
   "execution_count": null,
   "metadata": {},
   "outputs": [],
   "source": [
    "# create mlp trainer\n",
    "mlp_trainer = train.MLPTrainer(\n",
    "    credentials=gcp_credentials,\n",
    "    project_name=gcp_vars['project_name'],\n",
    "    bucket=gcp_vars['bucket'],\n",
    "    table_id='finaltaxi_encoded_sampled_small' # TODO: temp use of smaller table for testing\n",
    ")\n",
    "\n",
    "# begin training job\n",
    "mlp_trainer.train(\n",
    "    job_id=job_params['job_id'], \n",
    "    job_dir=job_params['job_dir'],\n",
    "    package_uri='gs://gcp-cert-demo-1/mlp_trainer_src_test_9/27c3f0ffda0efc75d163b1693b0058d4d3f74e8f1eeb9251ab80037b14a82f63/trainer-0.1.tar.gz', # TODO: temp use until build fixed\n",
    "    dense_neurons_1=training_params['dense_neurons_1'], \n",
    "    dense_neurons_2=training_params['dense_neurons_2'], \n",
    "    dense_neurons_3=training_params['dense_neurons_3'], \n",
    "    activation=training_params['activation'],\n",
    "    dropout_rate_1=training_params['dropout_rate_1'], \n",
    "    dropout_rate_2=training_params['dropout_rate_2'], \n",
    "    dropout_rate_3=training_params['dropout_rate_3'], \n",
    "    optimizer=training_params['optimizer'], \n",
    "    learning_rate=training_params['learning_rate'], \n",
    "    chunk_size=training_params['chunk_size'], \n",
    "    batch_size=training_params['batch_size'], \n",
    "    epochs=training_params['epochs'],\n",
    "    validation_freq=training_params['validation_freq'], \n",
    "    kernel_initial_1=training_params['kernel_initial_1'], \n",
    "    kernel_initial_2=training_params['kernel_initial_2'], \n",
    "    kernel_initial_3=training_params['kernel_initial_3'],\n",
    ")"
   ]
  },
  {
   "cell_type": "code",
   "execution_count": 5,
   "metadata": {},
   "outputs": [
    {
     "name": "stderr",
     "output_type": "stream",
     "text": [
      "2019-11-07 15:17:35,848 [INFO]  Fetching status of training job \"mlp_trainer_notebook_test_1573154941\"\n",
      "2019-11-07 15:17:35,850 [INFO]  URL being requested: GET https://www.googleapis.com/discovery/v1/apis/ml/v1/rest\n",
      "2019-11-07 15:17:36,151 [INFO]  URL being requested: GET https://ml.googleapis.com/v1/projects/ml-sandbox-1-191918/jobs/mlp_trainer_notebook_test_1573154941?alt=json\n",
      "2019-11-07 15:17:36,550 [INFO]  Training status response:\n"
     ]
    },
    {
     "name": "stdout",
     "output_type": "stream",
     "text": [
      "{'createTime': '2019-11-07T19:29:01Z',\n",
      " 'endTime': '2019-11-07T19:39:12Z',\n",
      " 'etag': 'Lgi7gmcNBiU=',\n",
      " 'jobId': 'mlp_trainer_notebook_test_1573154941',\n",
      " 'startTime': '2019-11-07T19:33:38Z',\n",
      " 'state': 'SUCCEEDED',\n",
      " 'trainingInput': {'args': ['--table-id',\n",
      "                            'finaltaxi_encoded_sampled_small',\n",
      "                            '--dense-neurons-1',\n",
      "                            '64',\n",
      "                            '--dense-neurons-2',\n",
      "                            '32',\n",
      "                            '--dense-neurons-3',\n",
      "                            '8',\n",
      "                            '--activation',\n",
      "                            'relu',\n",
      "                            '--dropout-rate-1',\n",
      "                            '0.1',\n",
      "                            '--dropout-rate-2',\n",
      "                            '0.1',\n",
      "                            '--dropout-rate-3',\n",
      "                            '0.1',\n",
      "                            '--optimizer',\n",
      "                            'adam',\n",
      "                            '--learning-rate',\n",
      "                            '0.1',\n",
      "                            '--chunk-size',\n",
      "                            '500000',\n",
      "                            '--batch-size',\n",
      "                            '1024',\n",
      "                            '--epochs',\n",
      "                            '3',\n",
      "                            '--validation-freq',\n",
      "                            '5',\n",
      "                            '--kernel-initial-1',\n",
      "                            'normal',\n",
      "                            '--kernel-initial-2',\n",
      "                            'normal',\n",
      "                            '--kernel-initial-3',\n",
      "                            'normal'],\n",
      "                   'jobDir': 'gs://gcp-cert-demo-1/mlp_model_notebook_test',\n",
      "                   'masterType': 'standard_v100',\n",
      "                   'packageUris': ['gs://gcp-cert-demo-1/mlp_trainer_src_test_9/27c3f0ffda0efc75d163b1693b0058d4d3f74e8f1eeb9251ab80037b14a82f63/trainer-0.1.tar.gz'],\n",
      "                   'pythonModule': 'trainer.train',\n",
      "                   'pythonVersion': '3.5',\n",
      "                   'region': 'us-central1',\n",
      "                   'runtimeVersion': '1.14',\n",
      "                   'scaleTier': 'CUSTOM'},\n",
      " 'trainingOutput': {'consumedMLUnits': 0.97}}\n"
     ]
    }
   ],
   "source": [
    "mlp_trainer = train.MLPTrainer(\n",
    "    credentials=gcp_credentials,\n",
    "    project_name=gcp_vars['project_name'],\n",
    "    bucket=gcp_vars['bucket'],\n",
    "    table_id='finaltaxi_encoded_sampled_small' # TODO: temp use of smaller table for testing\n",
    ")\n",
    "mlp_trainer.job_id = 'mlp_trainer_notebook_test_1573154941'\n",
    "mlp_trainer.model_dir = 'mlp_model_notebook_test'\n",
    "\n",
    "# check status of training job\n",
    "mlp_trainer.training_status()"
   ]
  },
  {
   "cell_type": "code",
   "execution_count": 6,
   "metadata": {},
   "outputs": [
    {
     "name": "stderr",
     "output_type": "stream",
     "text": [
      "2019-11-07 15:17:48,435 [INFO]  Deploying model \"mlp_model_1573157868\" version \"v_1573157771\" from \"gs://gcp-cert-demo-1/mlp_model_notebook_test\"\n",
      "2019-11-07 15:17:48,435 [INFO]  URL being requested: GET https://www.googleapis.com/discovery/v1/apis/ml/v1/rest\n",
      "2019-11-07 15:17:48,751 [INFO]  URL being requested: POST https://ml.googleapis.com/v1/projects/ml-sandbox-1-191918/models?alt=json\n",
      "2019-11-07 15:17:49,608 [INFO]  Model creation response:\n",
      "2019-11-07 15:17:49,625 [INFO]  URL being requested: POST https://ml.googleapis.com/v1/projects/ml-sandbox-1-191918/models/mlp_model_1573157868/versions?alt=json\n"
     ]
    },
    {
     "name": "stdout",
     "output_type": "stream",
     "text": [
      "{'etag': 'WmEZgzNi3LU=',\n",
      " 'name': 'projects/ml-sandbox-1-191918/models/mlp_model_1573157868',\n",
      " 'regions': ['us-central1']}\n"
     ]
    },
    {
     "name": "stderr",
     "output_type": "stream",
     "text": [
      "2019-11-07 15:17:51,099 [INFO]  Version creation response:\n"
     ]
    },
    {
     "name": "stdout",
     "output_type": "stream",
     "text": [
      "{'metadata': {'@type': 'type.googleapis.com/google.cloud.ml.v1.OperationMetadata',\n",
      "              'createTime': '2019-11-07T20:17:50Z',\n",
      "              'modelName': 'projects/ml-sandbox-1-191918/models/mlp_model_1573157868',\n",
      "              'operationType': 'CREATE_VERSION',\n",
      "              'version': {'createTime': '2019-11-07T20:17:49Z',\n",
      "                          'deploymentUri': 'gs://gcp-cert-demo-1/mlp_model_notebook_test',\n",
      "                          'etag': 'dqQXimO23/M=',\n",
      "                          'framework': 'TENSORFLOW',\n",
      "                          'machineType': 'mls1-c1-m2',\n",
      "                          'name': 'projects/ml-sandbox-1-191918/models/mlp_model_1573157868/versions/v_1573157771',\n",
      "                          'pythonVersion': '3.5',\n",
      "                          'runtimeVersion': '1.14'}},\n",
      " 'name': 'projects/ml-sandbox-1-191918/operations/create_mlp_model_1573157868_v_1573157771-1573157869703'}\n"
     ]
    }
   ],
   "source": [
    "# deploy trained model\n",
    "mlp_trainer.deploy('mlp_model')"
   ]
  },
  {
   "cell_type": "code",
   "execution_count": null,
   "metadata": {},
   "outputs": [],
   "source": []
  }
 ],
 "metadata": {
  "kernelspec": {
   "display_name": "Python [conda env:gcp-demo1]",
   "language": "python",
   "name": "conda-env-gcp-demo1-py"
  },
  "language_info": {
   "codemirror_mode": {
    "name": "ipython",
    "version": 3
   },
   "file_extension": ".py",
   "mimetype": "text/x-python",
   "name": "python",
   "nbconvert_exporter": "python",
   "pygments_lexer": "ipython3",
   "version": "3.7.5"
  }
 },
 "nbformat": 4,
 "nbformat_minor": 4
}
