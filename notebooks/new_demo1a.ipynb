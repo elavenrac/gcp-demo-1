{
 "cells": [
  {
   "cell_type": "markdown",
   "metadata": {},
   "source": [
    "### Imports"
   ]
  },
  {
   "cell_type": "code",
   "execution_count": 10,
   "metadata": {
    "scrolled": true
   },
   "outputs": [],
   "source": [
    "import pandas as pd\n",
    "\n",
    "# import GCP Demo 1 package\n",
    "from gcpdemo1 import gcp, etl, data, tune, train, predict"
   ]
  },
  {
   "cell_type": "markdown",
   "metadata": {},
   "source": [
    "### ***USER INPUT***: Enter GCP Variables"
   ]
  },
  {
   "cell_type": "code",
   "execution_count": 2,
   "metadata": {},
   "outputs": [],
   "source": [
    "# GCP variables\n",
    "gcp_vars = {\n",
    "    'credentials_path': 'C:/Users/kendall.ocasio/gcp-demo1/credentials/ml-sandbox-1-191918-4714b5fd6e92.json', # local path to gcp credentials\n",
    "    'project_name': 'ml-sandbox-1-191918', # gcp project name\n",
    "    'bucket': 'gcp-cert-demo-1', # gcp bucket name\n",
    "    'gcs_trainer_path': 'taxi_mlp_trainer/trainer-0.1.tar.gz', # path to write trainer package to within bucket\n",
    "    'local_trainer_path': '../mlp_trainer', # local path to trainer package\n",
    "    'table_id': 'finaltaxi_encoded_sampled_small' # bigquery table to use as dataset TODO: temporary small table\n",
    "}"
   ]
  },
  {
   "cell_type": "markdown",
   "metadata": {},
   "source": [
    "### Authentication"
   ]
  },
  {
   "cell_type": "code",
   "execution_count": 3,
   "metadata": {},
   "outputs": [],
   "source": [
    "# get GCP credentials\n",
    "gcp_credentials = gcp.get_credentials(gcp_vars['credentials_path'])"
   ]
  },
  {
   "cell_type": "markdown",
   "metadata": {},
   "source": [
    "### Create training package"
   ]
  },
  {
   "cell_type": "code",
   "execution_count": null,
   "metadata": {},
   "outputs": [],
   "source": [
    "# build and upload trainer package\n",
    "# TODO: does not work on windows because of no bash command\n",
    "gcpdemo1.gcp.build_and_upload_trainer_package(\n",
    "    bucket_name=gcp_vars['bucket'],\n",
    "    destination_blob_name=gcp_vars['gcs_trainer_path'],\n",
    "    local_trainer_package_path=gcp_vars['local_trainer_path'],\n",
    "    credentials=gcp_credentials\n",
    ")"
   ]
  },
  {
   "cell_type": "markdown",
   "metadata": {},
   "source": [
    "### Tune hyperparameters"
   ]
  },
  {
   "cell_type": "code",
   "execution_count": null,
   "metadata": {},
   "outputs": [],
   "source": [
    "# TODO: tune here"
   ]
  },
  {
   "cell_type": "markdown",
   "metadata": {},
   "source": [
    "### ***USER INPUT***: Enter training and job parameters"
   ]
  },
  {
   "cell_type": "code",
   "execution_count": 4,
   "metadata": {},
   "outputs": [],
   "source": [
    "# input training parameters\n",
    "training_params = {\n",
    "    'dense_neurons_1': 64,\n",
    "    'dense_neurons_2': 32,\n",
    "    'dense_neurons_3': 8,\n",
    "    'activation': 'relu',\n",
    "    'dropout_rate_1': 0.1,\n",
    "    'dropout_rate_2': 0.1,\n",
    "    'dropout_rate_3': 0.1,\n",
    "    'optimizer': 'adam',\n",
    "    'learning_rate': 0.1,\n",
    "    'chunk_size': 500000,\n",
    "    'batch_size': 1024,\n",
    "    'epochs': 3,\n",
    "    'validation_freq': 5,\n",
    "    'kernel_initial_1': 'normal',\n",
    "    'kernel_initial_2': 'normal',\n",
    "    'kernel_initial_3': 'normal',\n",
    "}\n",
    "\n",
    "# input job parameters\n",
    "job_params = {\n",
    "    'job_id': 'taxi_mlp_trainer', # training job ID\n",
    "    'job_dir': 'taxi_mlp_model', # model output directory\n",
    "    'model_name': 'taxi_mlp_model' # model name for deployment\n",
    "}"
   ]
  },
  {
   "cell_type": "markdown",
   "metadata": {},
   "source": [
    "### Train model"
   ]
  },
  {
   "cell_type": "code",
   "execution_count": null,
   "metadata": {},
   "outputs": [],
   "source": [
    "# create mlp trainer\n",
    "mlp_trainer = train.MLPTrainer(\n",
    "    credentials=gcp_credentials,\n",
    "    project_name=gcp_vars['project_name'],\n",
    "    bucket=gcp_vars['bucket'],\n",
    "    table_id=gcp_vars['table_id']\n",
    ")\n",
    "\n",
    "# begin training job\n",
    "mlp_trainer.train(\n",
    "    job_id=job_params['job_id'], \n",
    "    job_dir=job_params['job_dir'],\n",
    "    package_uri=gcp_vars['gcs_trainer_path'],\n",
    "    dense_neurons_1=training_params['dense_neurons_1'], \n",
    "    dense_neurons_2=training_params['dense_neurons_2'], \n",
    "    dense_neurons_3=training_params['dense_neurons_3'], \n",
    "    activation=training_params['activation'],\n",
    "    dropout_rate_1=training_params['dropout_rate_1'], \n",
    "    dropout_rate_2=training_params['dropout_rate_2'], \n",
    "    dropout_rate_3=training_params['dropout_rate_3'], \n",
    "    optimizer=training_params['optimizer'], \n",
    "    learning_rate=training_params['learning_rate'], \n",
    "    chunk_size=training_params['chunk_size'], \n",
    "    batch_size=training_params['batch_size'], \n",
    "    epochs=training_params['epochs'],\n",
    "    validation_freq=training_params['validation_freq'], \n",
    "    kernel_initial_1=training_params['kernel_initial_1'], \n",
    "    kernel_initial_2=training_params['kernel_initial_2'], \n",
    "    kernel_initial_3=training_params['kernel_initial_3'],\n",
    ")"
   ]
  },
  {
   "cell_type": "markdown",
   "metadata": {},
   "source": [
    "### Check training status"
   ]
  },
  {
   "cell_type": "code",
   "execution_count": null,
   "metadata": {},
   "outputs": [],
   "source": [
    "# check status of training job\n",
    "mlp_trainer.training_status()"
   ]
  },
  {
   "cell_type": "markdown",
   "metadata": {},
   "source": [
    "### Deploy model"
   ]
  },
  {
   "cell_type": "code",
   "execution_count": null,
   "metadata": {},
   "outputs": [],
   "source": [
    "# deploy trained model\n",
    "mlp_trainer.deploy(job_params['model_name'])"
   ]
  },
  {
   "cell_type": "markdown",
   "metadata": {},
   "source": [
    "### Make predictions"
   ]
  },
  {
   "cell_type": "code",
   "execution_count": 13,
   "metadata": {},
   "outputs": [
    {
     "name": "stderr",
     "output_type": "stream",
     "text": [
      "2019-11-07 23:34:49,762 [INFO]  URL being requested: GET https://www.googleapis.com/discovery/v1/apis/ml/v1/rest\n",
      "2019-11-07 23:34:50,139 [INFO]  Predicting using model \"mlp_model_1573157868\" version \"None\"\n",
      "2019-11-07 23:34:50,143 [INFO]  URL being requested: POST https://ml.googleapis.com/v1/projects/ml-sandbox-1-191918/models/mlp_model_1573157868:predict?alt=json\n",
      "2019-11-07 23:34:50,341 [INFO]  Prediction response:\n"
     ]
    },
    {
     "name": "stdout",
     "output_type": "stream",
     "text": [
      "{'predictions': [{'dense_3': [0.6001867055892944]},\n",
      "                 {'dense_3': [0.6001867055892944]},\n",
      "                 {'dense_3': [0.6001867055892944]},\n",
      "                 {'dense_3': [0.6001867055892944]},\n",
      "                 {'dense_3': [0.6001867055892944]},\n",
      "                 {'dense_3': [0.6001867055892944]},\n",
      "                 {'dense_3': [0.6001867055892944]},\n",
      "                 {'dense_3': [0.6001867055892944]},\n",
      "                 {'dense_3': [0.6001867055892944]},\n",
      "                 {'dense_3': [0.6001867055892944]}]}\n"
     ]
    }
   ],
   "source": [
    "# TODO: basic predictions, need to flesh out\n",
    "# get test data\n",
    "rows = data.get_reader_rows(\n",
    "    credentials=gcp_credentials,\n",
    "    table_id=gcp_vars['table_id'],\n",
    "    partition_name='test'\n",
    ")\n",
    "vals = pd.DataFrame(list(rows)[:10]).drop(\n",
    "    'cash',\n",
    "    axis=1\n",
    ").values\n",
    "instances = []\n",
    "for instance in vals:\n",
    "    instances.append({'dense_input': list(val)})\n",
    "\n",
    "# predict using deployed model\n",
    "predictor = predict.Predictor(\n",
    "    credentials=gcp_credentials,\n",
    "    project=gcp_vars['project_name'],\n",
    "    model=mlp_trainer.model_dir\n",
    ")\n",
    "predictions = predictor.predict(instances)"
   ]
  }
 ],
 "metadata": {
  "kernelspec": {
   "display_name": "Python [conda env:gcp-demo1]",
   "language": "python",
   "name": "conda-env-gcp-demo1-py"
  },
  "language_info": {
   "codemirror_mode": {
    "name": "ipython",
    "version": 3
   },
   "file_extension": ".py",
   "mimetype": "text/x-python",
   "name": "python",
   "nbconvert_exporter": "python",
   "pygments_lexer": "ipython3",
   "version": "3.7.5"
  }
 },
 "nbformat": 4,
 "nbformat_minor": 4
}
