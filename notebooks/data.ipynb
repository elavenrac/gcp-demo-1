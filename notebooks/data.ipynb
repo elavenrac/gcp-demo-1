{
 "nbformat": 4,
 "nbformat_minor": 2,
 "metadata": {
  "language_info": {
   "name": "python",
   "codemirror_mode": {
    "name": "ipython",
    "version": 3
   }
  },
  "orig_nbformat": 2,
  "file_extension": ".py",
  "mimetype": "text/x-python",
  "name": "python",
  "npconvert_exporter": "python",
  "pygments_lexer": "ipython3",
  "version": 3
 },
 "cells": [
  {
   "cell_type": "code",
   "execution_count": 6,
   "metadata": {},
   "outputs": [],
   "source": [
    "import sys\n",
    "sys.path.append('mlp_trainer')\n",
    "\n",
    "# import GCP Demo 1 package\n",
    "import trainer.data as data"
   ]
  },
  {
   "cell_type": "code",
   "execution_count": 1,
   "metadata": {},
   "outputs": [
    {
     "name": "stdout",
     "output_type": "stream",
     "text": "Untitled1.ipynb  Untitled3.ipynb  Untitled5.ipynb  Untitled7.ipynb  \u001b[0m\u001b[01;34mwork\u001b[0m/\nUntitled2.ipynb  Untitled4.ipynb  Untitled6.ipynb  Untitled.ipynb\n"
    }
   ],
   "source": [
    "%ls"
   ]
  },
  {
   "cell_type": "markdown",
   "execution_count": null,
   "metadata": {},
   "outputs": [],
   "source": [
    "\n",
    "\n",
    "session, readers = data.get_data_partition_sharded(table_id, partition)"
   ]
  }
 ]
}